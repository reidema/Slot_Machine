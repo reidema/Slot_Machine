{
 "cells": [
  {
   "cell_type": "code",
   "execution_count": 69,
   "id": "0740bcf8-a595-481d-9541-f963de432353",
   "metadata": {},
   "outputs": [],
   "source": [
    "import random"
   ]
  },
  {
   "cell_type": "code",
   "execution_count": 70,
   "id": "59632738-df4c-4947-b3cb-4bfa0c47cbae",
   "metadata": {},
   "outputs": [],
   "source": [
    "MAX_LINES = 3\n",
    "MAX_BET = 100\n",
    "MIN_BET = 1"
   ]
  },
  {
   "cell_type": "code",
   "execution_count": 71,
   "id": "49d1e985-25e5-4e23-8f52-ae671ec88e47",
   "metadata": {},
   "outputs": [],
   "source": [
    "ROWS = 3\n",
    "COLS = 3"
   ]
  },
  {
   "cell_type": "code",
   "execution_count": 72,
   "id": "b07f06b2-9e74-40d8-a783-b2f62a347355",
   "metadata": {},
   "outputs": [],
   "source": [
    "symbol_count = {\n",
    "    \"A\":2,\n",
    "    \"B\":4,\n",
    "    \"C\":6,\n",
    "    \"D\":8\n",
    "}"
   ]
  },
  {
   "cell_type": "code",
   "execution_count": 73,
   "id": "5c86d4e8-331c-4116-b26c-ae9fec18b394",
   "metadata": {},
   "outputs": [],
   "source": [
    "symbol_value = {\n",
    "    \"A\":5,\n",
    "    \"B\":4,\n",
    "    \"C\":3,\n",
    "    \"D\":2\n",
    "}"
   ]
  },
  {
   "cell_type": "code",
   "execution_count": 74,
   "id": "c981a7d8-eaad-4f0c-9c9e-bbbddc0c9c7a",
   "metadata": {},
   "outputs": [],
   "source": [
    "def check_winnings(columns, lines, bet, values):\n",
    "    winnings = 0\n",
    "    winning_lines = []\n",
    "    for line in range(lines):\n",
    "        symbol = columns[0][line]\n",
    "        for column in columns:\n",
    "            symbol_to_check = column[line]\n",
    "            if symbol != symbol_to_check:\n",
    "                break\n",
    "        else:\n",
    "            winnings += values[symbol] * bet\n",
    "            winning_lines.append(line + 1)\n",
    "            \n",
    "    return winnings, winning_lines\n",
    "    "
   ]
  },
  {
   "cell_type": "code",
   "execution_count": 75,
   "id": "ae0c9c0b-7571-47ce-bd9b-3fa5509b4443",
   "metadata": {},
   "outputs": [],
   "source": [
    "def get_slot_machine_spin(rows, cols, symbols):\n",
    "    all_symbols = []\n",
    "    for symbol, symbol_count in symbols.items():\n",
    "        for _ in range(symbol_count):\n",
    "            all_symbols.append(symbol)\n",
    "            \n",
    "    columns = []\n",
    "    for _ in range(cols):\n",
    "        column = []\n",
    "        current_symbols = all_symbols[:]\n",
    "        for _ in range(rows):\n",
    "            value = random.choice(current_symbols)\n",
    "            current_symbols.remove(value)\n",
    "            column.append(value)\n",
    "            \n",
    "        columns.append(column)\n",
    "    return columns"
   ]
  },
  {
   "cell_type": "code",
   "execution_count": 76,
   "id": "8cc1927a-af1d-4bbf-9c4d-0a8aa02537a2",
   "metadata": {},
   "outputs": [],
   "source": [
    "def print_slot_machine(columns):\n",
    "    for row in range(len(columns[0])):\n",
    "        for i, column in enumerate(columns):\n",
    "            if i != len(columns) - 1:\n",
    "                print(column[row], end = \"|\")\n",
    "            else:\n",
    "                print(column[row], end=\"\")\n",
    "                \n",
    "        print()"
   ]
  },
  {
   "cell_type": "code",
   "execution_count": 77,
   "id": "4c79ce85-29bc-4972-bcd9-1963f7f18c70",
   "metadata": {},
   "outputs": [],
   "source": [
    "def deposit():\n",
    "    while True:\n",
    "        amount = input(\"What would you like to deposit? $\")\n",
    "        if amount.isdigit():\n",
    "            amount = int(amount)\n",
    "            if amount > 0:\n",
    "                break\n",
    "            else:\n",
    "                print(\"Amount must be greater than 0.\")\n",
    "        else:\n",
    "            print(\"Please enter a number.\")\n",
    "            \n",
    "    return amount"
   ]
  },
  {
   "cell_type": "code",
   "execution_count": 78,
   "id": "a4095257-cfe9-4b06-a54b-c4cc29cefd6f",
   "metadata": {},
   "outputs": [],
   "source": [
    "def get_number_of_lines():\n",
    "    while True:\n",
    "        lines = input(\"Enter the number of lines to bet on (1-\" + str(MAX_LINES) + \")? \")\n",
    "        if lines.isdigit():\n",
    "            lines = int(lines)\n",
    "            if 1 <= lines <= MAX_LINES:\n",
    "                break\n",
    "            else:\n",
    "                print(\"Enter a valid number of lines.\")\n",
    "        else:\n",
    "            print(\"Please enter a number\")\n",
    "    return lines"
   ]
  },
  {
   "cell_type": "code",
   "execution_count": 79,
   "id": "1f9cad91-7b5e-45d5-92b8-2dba7de97e15",
   "metadata": {},
   "outputs": [],
   "source": [
    "def get_bet():\n",
    "    while True:\n",
    "        amount = input(\"How much would you like to bet on each line?\")\n",
    "        if amount.isdigit():\n",
    "            amount = int(amount)\n",
    "            if MIN_BET <= amount <=MAX_BET:\n",
    "                break\n",
    "            else:\n",
    "                print(f\"Amount must be between ${MIN_BET} - ${MAX_BET}.\")\n",
    "        else:\n",
    "            print(\"Please enter a number\")\n",
    "    return amount"
   ]
  },
  {
   "cell_type": "code",
   "execution_count": 95,
   "id": "0d039b2e-6000-4ef6-8efc-89e68bea6653",
   "metadata": {},
   "outputs": [],
   "source": [
    "def spin(balance):\n",
    "    lines = get_number_of_lines()\n",
    "    while True:\n",
    "        bet = get_bet()\n",
    "        total_bet = bet * lines\n",
    "        \n",
    "        if total_bet > balance:\n",
    "            print(f\"You do not have enough to bet that amount, your current balance is ${balance}\")\n",
    "        else:\n",
    "            break\n",
    "            \n",
    "    print(f\"You are betting: ${bet} on {lines} lines. Total bet is equal to: ${total_bet}\")\n",
    "    \n",
    "    slots = get_slot_machine_spin(ROWS, COLS, symbol_count)\n",
    "    print_slot_machine(slots)\n",
    "    winnings, winning_lines = check_winnings(slots, lines, bet, symbol_value)\n",
    "    \n",
    "    print(f\"You won: ${winnings}\")\n",
    "    print(f\"You won on lines:\", *winning_lines)\n",
    "    return winnings - total_bet"
   ]
  },
  {
   "cell_type": "code",
   "execution_count": 96,
   "id": "385f642e-8d37-4e6e-8793-c0b38567323e",
   "metadata": {},
   "outputs": [],
   "source": [
    "def main():\n",
    "    balance = deposit()\n",
    "    while True:\n",
    "        print(f\"Current balance is ${balance}\")\n",
    "        answer = input(\"Press enter to play (q to quit).\")\n",
    "        if answer == \"q\":\n",
    "            break\n",
    "        balance += spin(balance)\n",
    "        \n",
    "    print(f\"You left with ${balance}\")"
   ]
  },
  {
   "cell_type": "code",
   "execution_count": null,
   "id": "ccbb0fef-8f4d-4fe6-92ac-8d7a8a578183",
   "metadata": {},
   "outputs": [
    {
     "name": "stdin",
     "output_type": "stream",
     "text": [
      "What would you like to deposit? $ 100\n"
     ]
    },
    {
     "name": "stdout",
     "output_type": "stream",
     "text": [
      "Current balance is $100\n"
     ]
    },
    {
     "name": "stdin",
     "output_type": "stream",
     "text": [
      "Press enter to play (q to quit). \n",
      "Enter the number of lines to bet on (1-3)?  2\n",
      "How much would you like to bet on each line? 10\n"
     ]
    },
    {
     "name": "stdout",
     "output_type": "stream",
     "text": [
      "You are betting: $10 on 2 lines. Total bet is equal to: $20\n",
      "C|D|B\n",
      "A|D|B\n",
      "D|C|C\n",
      "You won: $0\n",
      "You won on lines:\n",
      "Current balance is $80\n"
     ]
    },
    {
     "name": "stdin",
     "output_type": "stream",
     "text": [
      "Press enter to play (q to quit). \n",
      "Enter the number of lines to bet on (1-3)?  2\n",
      "How much would you like to bet on each line? 10\n"
     ]
    },
    {
     "name": "stdout",
     "output_type": "stream",
     "text": [
      "You are betting: $10 on 2 lines. Total bet is equal to: $20\n",
      "B|B|D\n",
      "B|B|C\n",
      "C|D|D\n",
      "You won: $0\n",
      "You won on lines:\n",
      "Current balance is $60\n"
     ]
    },
    {
     "name": "stdin",
     "output_type": "stream",
     "text": [
      "Press enter to play (q to quit). \n",
      "Enter the number of lines to bet on (1-3)?  3\n",
      "How much would you like to bet on each line? 10\n"
     ]
    },
    {
     "name": "stdout",
     "output_type": "stream",
     "text": [
      "You are betting: $10 on 3 lines. Total bet is equal to: $30\n",
      "A|A|B\n",
      "B|D|A\n",
      "D|D|C\n",
      "You won: $0\n",
      "You won on lines:\n",
      "Current balance is $30\n"
     ]
    },
    {
     "name": "stdin",
     "output_type": "stream",
     "text": [
      "Press enter to play (q to quit). \n",
      "Enter the number of lines to bet on (1-3)?  1\n",
      "How much would you like to bet on each line? 2\n"
     ]
    },
    {
     "name": "stdout",
     "output_type": "stream",
     "text": [
      "You are betting: $2 on 1 lines. Total bet is equal to: $2\n",
      "D|D|D\n",
      "D|A|C\n",
      "D|C|C\n",
      "You won: $4\n",
      "You won on lines: 1\n",
      "Current balance is $32\n"
     ]
    }
   ],
   "source": [
    "main()"
   ]
  },
  {
   "cell_type": "code",
   "execution_count": null,
   "id": "894d9643-c8ba-4ef4-bc98-c43e8957deb1",
   "metadata": {},
   "outputs": [],
   "source": [
    "\n"
   ]
  },
  {
   "cell_type": "code",
   "execution_count": null,
   "id": "578a04b6-b4ff-4adc-8e62-26f5d257c53a",
   "metadata": {},
   "outputs": [],
   "source": []
  }
 ],
 "metadata": {
  "kernelspec": {
   "display_name": "Python 3 (ipykernel)",
   "language": "python",
   "name": "python3"
  },
  "language_info": {
   "codemirror_mode": {
    "name": "ipython",
    "version": 3
   },
   "file_extension": ".py",
   "mimetype": "text/x-python",
   "name": "python",
   "nbconvert_exporter": "python",
   "pygments_lexer": "ipython3",
   "version": "3.9.13"
  }
 },
 "nbformat": 4,
 "nbformat_minor": 5
}
